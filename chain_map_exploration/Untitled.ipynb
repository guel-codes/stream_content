{
 "cells": [
  {
   "cell_type": "markdown",
   "id": "9da3dda6-0300-45bd-9199-c2e73b6a64e9",
   "metadata": {},
   "source": [
    "# Overview\n",
    "- This is a notebook to explore the chainmap dictionary within the collections module"
   ]
  },
  {
   "cell_type": "code",
   "execution_count": 1,
   "id": "3368fee7-5b55-4aa7-b8a8-4c02dba352fb",
   "metadata": {},
   "outputs": [],
   "source": [
    "from collections import defaultdict, ChainMap, Counter"
   ]
  },
  {
   "cell_type": "code",
   "execution_count": 2,
   "id": "9cb25c5e-d2dd-4e0b-8ccc-5ee85c0b6211",
   "metadata": {},
   "outputs": [
    {
     "name": "stdout",
     "output_type": "stream",
     "text": [
      "tacos\n"
     ]
    }
   ],
   "source": [
    "# regular dictionary\n",
    "\n",
    "test_dict = {\n",
    "    \"item_1\": \"pizza\",\n",
    "    \"item_2\": \"tacos\",\n",
    "    \"item_3\": \"pineapples\"\n",
    "}\n",
    "\n",
    "print(test_dict[\"item_2\"])"
   ]
  },
  {
   "cell_type": "code",
   "execution_count": 3,
   "id": "d5166ee4-8cd6-416a-96bc-3f177710f742",
   "metadata": {},
   "outputs": [
    {
     "name": "stdout",
     "output_type": "stream",
     "text": [
      "0\n",
      "2\n"
     ]
    }
   ],
   "source": [
    "# defaultdict\n",
    "# inputs new values if there is not a key with a default value that is specified\n",
    "\n",
    "the_default = defaultdict(int)\n",
    "\n",
    "print(the_default[\"test\"])\n",
    "\n",
    "the_default[\"test\"] += 2\n",
    "print(the_default[\"test\"])"
   ]
  },
  {
   "cell_type": "code",
   "execution_count": 4,
   "id": "db7052e6-20ce-4525-a34b-b8b3a4ba62ae",
   "metadata": {},
   "outputs": [
    {
     "data": {
      "text/plain": [
       "ChainMap({'one': 'pancakes', 'two': 'eggs', 'three': 'turkey_bacon'}, {'four': 'chicken sandwich', 'five': 'tots', 'six': 'beer'}, {'seven': 'shrimp', 'eight': 'mashed potatoes', 'nine': 'wine'})"
      ]
     },
     "metadata": {},
     "output_type": "display_data"
    },
    {
     "data": {
      "text/plain": [
       "'shrimp'"
      ]
     },
     "metadata": {},
     "output_type": "display_data"
    },
    {
     "data": {
      "text/plain": [
       "[{'one': 'pancakes', 'two': 'eggs', 'three': 'turkey_bacon'},\n",
       " {'four': 'chicken sandwich', 'five': 'tots', 'six': 'beer'},\n",
       " {'seven': 'shrimp', 'eight': 'mashed potatoes', 'nine': 'wine'}]"
      ]
     },
     "metadata": {},
     "output_type": "display_data"
    }
   ],
   "source": [
    "# chain_map\n",
    "\n",
    "breakfast = {\n",
    "    \"one\": \"pancakes\",\n",
    "    \"two\": \"eggs\",\n",
    "    \"three\": \"turkey_bacon\"\n",
    "}\n",
    "lunch = {\n",
    "    \"four\": \"chicken sandwich\",\n",
    "    \"five\": \"tots\",\n",
    "    \"six\": \"beer\"\n",
    "} \n",
    "dinner = {\n",
    "    \"seven\": \"shrimp\",\n",
    "    \"eight\": \"mashed potatoes\",\n",
    "    \"nine\": \"wine\"\n",
    "}\n",
    "\n",
    "merged_dict = ChainMap(breakfast, lunch, dinner)\n",
    "\n",
    "display(merged_dict, merged_dict[\"seven\"],  merged_dict.maps)"
   ]
  },
  {
   "cell_type": "code",
   "execution_count": 6,
   "id": "1c2c6ef3-6079-4c9d-9aa5-76bf066d9576",
   "metadata": {},
   "outputs": [
    {
     "name": "stdout",
     "output_type": "stream",
     "text": [
      "Counter({'my': 2, 'test': 2, 'Today': 1, 'was': 1, 'first': 1, 'day': 1, 'streaming': 1, 'code.': 1, 'Tomorrow': 1, 'might': 1, 'be': 1, 'second': 1, 'day.': 1, 'Test': 1})\n"
     ]
    }
   ],
   "source": [
    "# Counter\n",
    "\n",
    "test_string = \"Today was my first day streaming code. Tomorrow might be my second day. Test test test\"\n",
    "\n",
    "the_counter = Counter(test_string.strip().split(\" \"))\n",
    "print(the_counter)\n"
   ]
  }
 ],
 "metadata": {
  "kernelspec": {
   "display_name": "Python 3 (ipykernel)",
   "language": "python",
   "name": "python3"
  },
  "language_info": {
   "codemirror_mode": {
    "name": "ipython",
    "version": 3
   },
   "file_extension": ".py",
   "mimetype": "text/x-python",
   "name": "python",
   "nbconvert_exporter": "python",
   "pygments_lexer": "ipython3",
   "version": "3.9.7"
  }
 },
 "nbformat": 4,
 "nbformat_minor": 5
}
